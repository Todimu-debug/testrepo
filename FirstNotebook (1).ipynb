{
 "cells": [
  {
   "cell_type": "markdown",
   "id": "571c579a",
   "metadata": {},
   "source": [
    "# Printing Text"
   ]
  },
  {
   "cell_type": "code",
   "execution_count": 3,
   "id": "9dcb4906",
   "metadata": {},
   "outputs": [
    {
     "name": "stdout",
     "output_type": "stream",
     "text": [
      "Ogana Ekene\n"
     ]
    }
   ],
   "source": [
    "print(\"Ogana Ekene\")"
   ]
  },
  {
   "cell_type": "markdown",
   "id": "347107c2",
   "metadata": {},
   "source": [
    "## Printing Numbers"
   ]
  },
  {
   "cell_type": "code",
   "execution_count": 5,
   "id": "6ff2ac7a",
   "metadata": {},
   "outputs": [
    {
     "name": "stdout",
     "output_type": "stream",
     "text": [
      "6\n"
     ]
    }
   ],
   "source": [
    "print(3+3)"
   ]
  },
  {
   "cell_type": "markdown",
   "id": "fe615d20",
   "metadata": {},
   "source": [
    "### Calculations "
   ]
  },
  {
   "cell_type": "code",
   "execution_count": 6,
   "id": "0fc5a223",
   "metadata": {},
   "outputs": [
    {
     "name": "stdout",
     "output_type": "stream",
     "text": [
      "36\n"
     ]
    }
   ],
   "source": [
    "print(2*2*9)"
   ]
  },
  {
   "cell_type": "code",
   "execution_count": null,
   "id": "6a1b7543",
   "metadata": {},
   "outputs": [],
   "source": []
  }
 ],
 "metadata": {
  "kernelspec": {
   "display_name": "Python 3 (ipykernel)",
   "language": "python",
   "name": "python3"
  },
  "language_info": {
   "codemirror_mode": {
    "name": "ipython",
    "version": 3
   },
   "file_extension": ".py",
   "mimetype": "text/x-python",
   "name": "python",
   "nbconvert_exporter": "python",
   "pygments_lexer": "ipython3",
   "version": "3.9.12"
  }
 },
 "nbformat": 4,
 "nbformat_minor": 5
}
